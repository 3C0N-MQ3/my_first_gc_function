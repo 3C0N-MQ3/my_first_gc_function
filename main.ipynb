{
 "cells": [
  {
   "cell_type": "markdown",
   "id": "9945ffe2",
   "metadata": {
    "cell_marker": "\"\"\"",
    "lines_to_next_cell": 0
   },
   "source": [
    "# My first Google Cloud Function"
   ]
  },
  {
   "cell_type": "markdown",
   "id": "7975ba36",
   "metadata": {
    "cell_marker": "\"\"\"",
    "lines_to_next_cell": 0
   },
   "source": [
    "If you have a nice `base` environment in conda, you can clone it to create a new environment for this project.\n",
    "To do so, open the `anaconda powershell prompt` and run the following command:\n",
    "\n",
    "```bash\n",
    "conda create --my-first-gcf --clone base\n",
    "```\n",
    "\n",
    "Then, activate the new environment:\n",
    "\n",
    "```bash\n",
    "conda activate my-first-gcf\n",
    "```\n",
    "\n",
    "Now, install the required packages:\n",
    "\n",
    "```bash\n",
    "pip install functions-framework flask\n",
    "```\n",
    "\n",
    "This packages will be managed by the `conda` environment, so you can deactivate it and activate it whenever you want."
   ]
  },
  {
   "cell_type": "markdown",
   "id": "b4a21d11",
   "metadata": {
    "cell_marker": "\"\"\"",
    "lines_to_next_cell": 0
   },
   "source": [
    "Create a new folder for the project and create a new file called `main.py`.\n",
    "\n",
    "```bash\n",
    "mkdir my-first-gcf\n",
    "cd my-first-gcf\n",
    "touch main.py\n",
    "```\n",
    "\n",
    "In this new file, write the following code:"
   ]
  },
  {
   "cell_type": "code",
   "execution_count": null,
   "id": "a74b553f",
   "metadata": {
    "lines_to_next_cell": 1
   },
   "outputs": [],
   "source": [
    "# Brief example of how to use the package `functions_framework` from Google\n",
    "# Cloud Functions to create a simple HTTP function.\n",
    "import flask\n",
    "import functions_framework\n",
    "\n",
    "# The idea is to translate a function without having to write the HTTP server\n",
    "# or complicated request handling logic.\n",
    "\n",
    "# class flask.Request(environ, populate_request=True, shallow=False)\n",
    "# Default request object used by default in Flask. Remembers the matched\n",
    "# endpoints and view arguments. \n",
    "def hello_world(request: flask.Request) -> flask.typing.ResponseReturnValue:\n",
    "    \"\"\"Show a `Hello, World!` message in the browser for each request.\n",
    "\n",
    "    Args:\n",
    "        request (flask.Request): The request object. Instantiated by Flask \n",
    "        when a request is received.\n",
    "\n",
    "    Returns:\n",
    "        flask.typing.ResponseReturnValue: The response object. Instantiated by\n",
    "        Flask to send the response back to the client.\n",
    "    \"\"\"\n",
    "    return \"Hello, World!\""
   ]
  },
  {
   "cell_type": "markdown",
   "id": "933afe2c",
   "metadata": {
    "cell_marker": "\"\"\""
   },
   "source": [
    "To test locally, run the following command in the `anaconda powershell prompt`:\n",
    "\n",
    "```bash\n",
    "functions-framework --target hello_world --debug\n",
    "```\n",
    "\n",
    "Then, in a web browser, navigate to `http://localhost:port/` to see the output.\n",
    "Each time you refresh the page, is like sending a new request to the server."
   ]
  }
 ],
 "metadata": {
  "jupytext": {
   "cell_metadata_filter": "-all",
   "formats": "py:percent,ipynb",
   "main_language": "python"
  }
 },
 "nbformat": 4,
 "nbformat_minor": 5
}
